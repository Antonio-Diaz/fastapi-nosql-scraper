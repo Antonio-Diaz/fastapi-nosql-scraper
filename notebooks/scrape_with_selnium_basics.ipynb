{
 "cells": [
  {
   "cell_type": "code",
   "execution_count": 1,
   "metadata": {},
   "outputs": [
    {
     "name": "stdout",
     "output_type": "stream",
     "text": [
      "/home/antonio/projects/fastapi-nosql-scraper\n"
     ]
    }
   ],
   "source": [
    "cd /home/antonio/projects/fastapi-nosql-scraper"
   ]
  },
  {
   "cell_type": "code",
   "execution_count": 2,
   "metadata": {},
   "outputs": [],
   "source": [
    "from app import scraper"
   ]
  },
  {
   "cell_type": "code",
   "execution_count": 3,
   "metadata": {},
   "outputs": [
    {
     "name": "stdout",
     "output_type": "stream",
     "text": [
      "An exception occurred while initializing the WebDriver: Message: unknown error: no chrome binary at /usr/bin/google-chrome\n",
      "Stacktrace:\n",
      "#0 0x5561e7d67bc3 <unknown>\n",
      "#1 0x5561e7aa26a7 <unknown>\n",
      "#2 0x5561e7acaef9 <unknown>\n",
      "#3 0x5561e7ac9a19 <unknown>\n",
      "#4 0x5561e7b098a1 <unknown>\n",
      "#5 0x5561e7b08eef <unknown>\n",
      "#6 0x5561e7b009f3 <unknown>\n",
      "#7 0x5561e7ad4c32 <unknown>\n",
      "#8 0x5561e7ad59de <unknown>\n",
      "#9 0x5561e7d2c7fd <unknown>\n",
      "#10 0x5561e7d31077 <unknown>\n",
      "#11 0x5561e7d3a4b8 <unknown>\n",
      "#12 0x5561e7d31ab0 <unknown>\n",
      "#13 0x5561e7d027de <unknown>\n",
      "#14 0x5561e7d52538 <unknown>\n",
      "#15 0x5561e7d5272a <unknown>\n",
      "#16 0x5561e7d611da <unknown>\n",
      "#17 0x7f6a3f099b43 <unknown>\n",
      "\n"
     ]
    }
   ],
   "source": [
    "driver = scraper.Scraper().get_driver()"
   ]
  },
  {
   "cell_type": "code",
   "execution_count": null,
   "metadata": {},
   "outputs": [],
   "source": []
  }
 ],
 "metadata": {
  "kernelspec": {
   "display_name": "fastapi-nosql-scraper-5V5BX_XL",
   "language": "python",
   "name": "python3"
  },
  "language_info": {
   "codemirror_mode": {
    "name": "ipython",
    "version": 3
   },
   "file_extension": ".py",
   "mimetype": "text/x-python",
   "name": "python",
   "nbconvert_exporter": "python",
   "pygments_lexer": "ipython3",
   "version": "3.10.12"
  },
  "orig_nbformat": 4
 },
 "nbformat": 4,
 "nbformat_minor": 2
}
