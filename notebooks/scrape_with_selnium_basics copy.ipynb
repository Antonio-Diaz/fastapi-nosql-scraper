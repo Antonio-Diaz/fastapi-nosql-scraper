{
 "cells": [
  {
   "cell_type": "code",
   "execution_count": 1,
   "metadata": {},
   "outputs": [
    {
     "name": "stdout",
     "output_type": "stream",
     "text": [
      "/home/antonio/projects/fastapi-nosql-scraper\n"
     ]
    }
   ],
   "source": [
    "cd /home/antonio/projects/fastapi-nosql-scraper"
   ]
  },
  {
   "cell_type": "code",
   "execution_count": 21,
   "metadata": {},
   "outputs": [],
   "source": [
    "from slugify import slugify\n",
    "from requests_html import HTML\n",
    "import pprint\n",
    "from app import scraper"
   ]
  },
  {
   "cell_type": "code",
   "execution_count": 3,
   "metadata": {},
   "outputs": [],
   "source": [
    "url = 'https://www.amazon.com.mx/gp/product/B0BTGWLWRF/ref=ewc_pr_img_1?smid=A1JM0UKGL93BJX&psc=1'"
   ]
  },
  {
   "cell_type": "code",
   "execution_count": 4,
   "metadata": {},
   "outputs": [],
   "source": [
    "s = scraper.Scraper(url=url, endless_scroll=True)\n"
   ]
  },
  {
   "cell_type": "code",
   "execution_count": 5,
   "metadata": {},
   "outputs": [],
   "source": [
    "html_str = s.get()"
   ]
  },
  {
   "cell_type": "code",
   "execution_count": 6,
   "metadata": {},
   "outputs": [],
   "source": [
    "html_obj = HTML(html=html_str)"
   ]
  },
  {
   "cell_type": "code",
   "execution_count": 7,
   "metadata": {},
   "outputs": [
    {
     "data": {
      "text/plain": [
       "'$463.33'"
      ]
     },
     "execution_count": 7,
     "metadata": {},
     "output_type": "execute_result"
    }
   ],
   "source": [
    "html_obj.find('.a-offscreen', first=True).text"
   ]
  },
  {
   "cell_type": "code",
   "execution_count": 8,
   "metadata": {},
   "outputs": [
    {
     "data": {
      "text/plain": [
       "'Digimon ST10 Parallel World Tactician Starter Deck'"
      ]
     },
     "execution_count": 8,
     "metadata": {},
     "output_type": "execute_result"
    }
   ],
   "source": [
    "html_obj.find('#productTitle', first=True).text"
   ]
  },
  {
   "cell_type": "code",
   "execution_count": 25,
   "metadata": {},
   "outputs": [
    {
     "name": "stdout",
     "output_type": "stream",
     "text": [
      "{'asin': '\\u200eB0BTGWLWRF',\n",
      " 'capacidad-del-grado': 'Sin clasificar',\n",
      " 'clasificacion-en-los-mas-vendidos-de-amazon': 'nº42,794 en Juguetes y Juegos '\n",
      "                                                '(Ver el Top 100 en Juguetes y '\n",
      "                                                'Juegos)  nº178 en Barajas y '\n",
      "                                                'Juegos de Partida de Cartas '\n",
      "                                                'Coleccionables',\n",
      " 'color': '\\u200eDigimon St10 Ultimate Ancient Dragon',\n",
      " 'deporte': 'Digimon',\n",
      " 'dimensiones-del-paquete': '\\u200e16,99 x 9,8 x 3,81 cm; 150 g',\n",
      " 'edad-recomendada-por-el-fabricante': '\\u200e5 años y más',\n",
      " 'esta-autografiado': 'No',\n",
      " 'incluye-baterias': '\\u200eNo',\n",
      " 'marca': 'Generic',\n",
      " 'opinion-media-de-los-clientes': '/* \\n'\n",
      "                                  '    * Fix for UDP-1061. Average customer '\n",
      "                                  'reviews has a small extra line on hover \\n'\n",
      "                                  '    * '\n",
      "                                  'https://omni-grok.amazon.com/xref/src/appgroup/websiteTemplates/retail/SoftlinesDetailPageAssets/udp-intl-lock/src/legacy.css?indexName=WebsiteTemplates#40\\n'\n",
      "                                  '    */\\n'\n",
      "                                  '    .noUnderline a:hover { \\n'\n",
      "                                  '        text-decoration: none; \\n'\n",
      "                                  '    }\\n'\n",
      "                                  '\\n'\n",
      "                                  '    .cm-cr-review-stars-spacing-big {\\n'\n",
      "                                  '        margin-top: 1px;\\n'\n",
      "                                  '    }\\n'\n",
      "                                  '\\n'\n",
      "                                  '\\n'\n",
      "                                  ' \\n'\n",
      "                                  '   5.0  5.0 de 5 estrellas    \\n'\n",
      "                                  '    3 calificaciones   \\n'\n",
      "                                  '                    \\n'\n",
      "                                  '                    var '\n",
      "                                  'dpAcrHasRegisteredArcLinkClickAction;\\n'\n",
      "                                  \"                    P.when('A', \"\n",
      "                                  \"'ready').execute(function(A) {\\n\"\n",
      "                                  '                        if '\n",
      "                                  '(dpAcrHasRegisteredArcLinkClickAction !== '\n",
      "                                  'true) {\\n'\n",
      "                                  '                            '\n",
      "                                  'dpAcrHasRegisteredArcLinkClickAction = '\n",
      "                                  'true;\\n'\n",
      "                                  '                            A.declarative(\\n'\n",
      "                                  '                                '\n",
      "                                  \"'acrLink-click-metrics', 'click',\\n\"\n",
      "                                  '                                { '\n",
      "                                  '\"allowLinkDefault\": true },\\n'\n",
      "                                  '                                function '\n",
      "                                  '(event) {\\n'\n",
      "                                  '                                    if '\n",
      "                                  '(window.ue) {\\n'\n",
      "                                  '                                        '\n",
      "                                  'ue.count(\"acrLinkClickCount\", '\n",
      "                                  '(ue.count(\"acrLinkClickCount\") || 0) + 1);\\n'\n",
      "                                  '                                    }\\n'\n",
      "                                  '                                }\\n'\n",
      "                                  '                            );\\n'\n",
      "                                  '                        }\\n'\n",
      "                                  '                    });\\n'\n",
      "                                  '                \\n'\n",
      "                                  '\\n'\n",
      "                                  \"            P.when('A', \"\n",
      "                                  \"'cf').execute(function(A) {\\n\"\n",
      "                                  '                '\n",
      "                                  \"A.declarative('acrStarsLink-click-metrics', \"\n",
      "                                  '\\'click\\', { \"allowLinkDefault\" : true },  '\n",
      "                                  'function(event){\\n'\n",
      "                                  '                    if(window.ue) {\\n'\n",
      "                                  '                        '\n",
      "                                  'ue.count(\"acrStarsLinkWithPopoverClickCount\", '\n",
      "                                  '(ue.count(\"acrStarsLinkWithPopoverClickCount\") '\n",
      "                                  '|| 0) + 1);\\n'\n",
      "                                  '                    }\\n'\n",
      "                                  '                });\\n'\n",
      "                                  '            });\\n'\n",
      "                                  '        \\n'\n",
      "                                  '\\n'\n",
      "                                  ' 5.0 de 5 estrellas',\n",
      " 'producto-en-amazon-com-mx-desde': '31 enero 2023',\n",
      " 'referencia-del-fabricante': '\\u200eTCGBDSTDKDGMST101',\n",
      " 'se-necesitan-baterias': '\\u200eNo',\n",
      " 'tema': 'Anime'}\n"
     ]
    }
   ],
   "source": [
    "dataset = {}\n",
    "tables = html_obj.find(\"table\")\n",
    "for table in tables:\n",
    "    for tbody in table.element.getchildren():\n",
    "        for tr in tbody.getchildren():\n",
    "            row = []\n",
    "            for col in tr.getchildren():\n",
    "                try:\n",
    "                    content = col.text_content()\n",
    "                except:\n",
    "                    pass\n",
    "                if content != \"\":\n",
    "                    _content = content.strip()\n",
    "                    row.append(_content)\n",
    "            if len(row) != 2:\n",
    "                continue\n",
    "            data = {}\n",
    "            key = row[0]\n",
    "            value = row[1]\n",
    "            key = slugify(key)\n",
    "            if key in dataset:\n",
    "                continue\n",
    "            else:\n",
    "                dataset[key] = value\n",
    "pprint.pprint(dataset)"
   ]
  },
  {
   "cell_type": "code",
   "execution_count": null,
   "metadata": {},
   "outputs": [],
   "source": []
  },
  {
   "cell_type": "code",
   "execution_count": null,
   "metadata": {},
   "outputs": [],
   "source": []
  }
 ],
 "metadata": {
  "kernelspec": {
   "display_name": "fastapi-nosql-scraper-5V5BX_XL",
   "language": "python",
   "name": "python3"
  },
  "language_info": {
   "codemirror_mode": {
    "name": "ipython",
    "version": 3
   },
   "file_extension": ".py",
   "mimetype": "text/x-python",
   "name": "python",
   "nbconvert_exporter": "python",
   "pygments_lexer": "ipython3",
   "version": "3.10.12"
  },
  "orig_nbformat": 4
 },
 "nbformat": 4,
 "nbformat_minor": 2
}
