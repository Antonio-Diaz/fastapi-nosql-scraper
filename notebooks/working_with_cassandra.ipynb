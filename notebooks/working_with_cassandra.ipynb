{
 "cells": [
  {
   "cell_type": "code",
   "execution_count": 1,
   "id": "bf00b3e9-2144-43c9-b28e-8f426b8b5de2",
   "metadata": {},
   "outputs": [
    {
     "name": "stdout",
     "output_type": "stream",
     "text": [
      "/home/antonio/projects/fastapi-nosql-scraper\n"
     ]
    }
   ],
   "source": [
    "cd /home/antonio/projects/fastapi-nosql-scraper/"
   ]
  },
  {
   "cell_type": "code",
   "execution_count": 18,
   "id": "b36d40cc-d587-4c3c-a676-c8d493976cc9",
   "metadata": {},
   "outputs": [],
   "source": [
    "import uuid\n",
    "from app import crud, models, db, schema\n",
    "from pydantic import ValidationError"
   ]
  },
  {
   "cell_type": "code",
   "execution_count": 3,
   "id": "32e1d382-6a1e-4072-851a-9311faccbbd3",
   "metadata": {},
   "outputs": [
    {
     "data": {
      "text/plain": [
       "{'asin': 'TESTE123', 'title': 'MARK 213'}"
      ]
     },
     "execution_count": 3,
     "metadata": {},
     "output_type": "execute_result"
    }
   ],
   "source": [
    "data = {\n",
    "    'asin': 'TESTE123',\n",
    "    'title': 'MARK 213'\n",
    "    }\n",
    "data"
   ]
  },
  {
   "cell_type": "code",
   "execution_count": 13,
   "id": "ec209bd7-1fea-424e-a362-7cff5f3dc7ec",
   "metadata": {},
   "outputs": [],
   "source": [
    "session = db.CassandraSession.get_session()"
   ]
  },
  {
   "cell_type": "code",
   "execution_count": 4,
   "id": "da14a80b-3b82-488f-a877-9c1bbe2d0d2b",
   "metadata": {},
   "outputs": [
    {
     "data": {
      "text/plain": [
       "(Product(asin='TESTE123', title='MARK 213', price_str='-100'),\n",
       " ProductScrapeEvent(uuid=UUID('d5c7ac3e-4f79-11ee-9185-bbdc90d048e2'), asin='TESTE123', title='MARK 213', price_str='-100'))"
      ]
     },
     "execution_count": 4,
     "metadata": {},
     "output_type": "execute_result"
    }
   ],
   "source": [
    "crud.add_scrape_event(data, fresh=True)"
   ]
  },
  {
   "cell_type": "code",
   "execution_count": 20,
   "id": "fb347aed-87fd-4b13-8cb2-7cd29a63afc9",
   "metadata": {},
   "outputs": [],
   "source": [
    "try:\n",
    "    data = dict(data)\n",
    "    data['uuid'] = uuid.uuid1()\n",
    "    schema.ProductScrapeEventSchema(**data)\n",
    "except ValidationError as e:\n",
    "    print(e.json())"
   ]
  },
  {
   "cell_type": "code",
   "execution_count": 5,
   "id": "77def402-ad97-47e4-bbeb-c698c09fbeb1",
   "metadata": {},
   "outputs": [
    {
     "data": {
      "text/plain": [
       "{'asin': 'TESTE123', 'title': 'MARK 213'}"
      ]
     },
     "execution_count": 5,
     "metadata": {},
     "output_type": "execute_result"
    }
   ],
   "source": [
    "data"
   ]
  },
  {
   "cell_type": "code",
   "execution_count": 9,
   "id": "48ef2eea-a8bc-4e12-915c-9da75d5ef184",
   "metadata": {},
   "outputs": [
    {
     "name": "stdout",
     "output_type": "stream",
     "text": [
      "TESTE12312\n",
      "TESTE123\n"
     ]
    }
   ],
   "source": [
    "asin = 'TESTE123'\n",
    "for obj in models.Product.objects().all():\n",
    "    print(obj.asin)"
   ]
  },
  {
   "cell_type": "code",
   "execution_count": 8,
   "id": "6d310e40-ca6e-4441-89fc-b782f90d5689",
   "metadata": {},
   "outputs": [
    {
     "name": "stdout",
     "output_type": "stream",
     "text": [
      "scrape events for TESTE123\n",
      "TESTE123 61e99e1c-4f79-11ee-9185-bbdc90d048e2\n",
      "TESTE123 d5c7ac3e-4f79-11ee-9185-bbdc90d048e2\n"
     ]
    }
   ],
   "source": [
    "if asin is not None:\n",
    "    print(f\"scrape events for {asin}\")\n",
    "    for obj in models.ProductScrapeEvent.objects.filter(asin=asin):\n",
    "        print(obj.asin, obj.uuid)"
   ]
  },
  {
   "cell_type": "code",
   "execution_count": 14,
   "id": "74aa07e4-bdc4-4b23-b613-7bc7133dd11c",
   "metadata": {},
   "outputs": [
    {
     "name": "stdout",
     "output_type": "stream",
     "text": [
      "{'asin': 'TESTE12312', 'price_str': None, 'title': 'TEST TITLE'}\n",
      "{'asin': 'TESTE123', 'price_str': '-100', 'title': 'MARK 213'}\n"
     ]
    }
   ],
   "source": [
    "for row in session.execute('SELECT * FROM scraper_app.product LIMIT 1000;'):\n",
    "    print(row)"
   ]
  },
  {
   "cell_type": "code",
   "execution_count": null,
   "id": "66352f84-a66e-4b3f-8165-396bfc292e49",
   "metadata": {},
   "outputs": [],
   "source": []
  }
 ],
 "metadata": {
  "kernelspec": {
   "display_name": "Python 3 (ipykernel)",
   "language": "python",
   "name": "python3"
  },
  "language_info": {
   "codemirror_mode": {
    "name": "ipython",
    "version": 3
   },
   "file_extension": ".py",
   "mimetype": "text/x-python",
   "name": "python",
   "nbconvert_exporter": "python",
   "pygments_lexer": "ipython3",
   "version": "3.10.12"
  }
 },
 "nbformat": 4,
 "nbformat_minor": 5
}
