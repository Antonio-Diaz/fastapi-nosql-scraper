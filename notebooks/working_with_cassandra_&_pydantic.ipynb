{
 "cells": [
  {
   "cell_type": "code",
   "execution_count": 1,
   "id": "d4cd80e5-b641-4bf0-be7d-6db81d83d815",
   "metadata": {},
   "outputs": [
    {
     "name": "stdout",
     "output_type": "stream",
     "text": [
      "/home/antonio/projects/fastapi-nosql-scraper\n"
     ]
    }
   ],
   "source": [
    "cd /home/antonio/projects/fastapi-nosql-scraper/"
   ]
  },
  {
   "cell_type": "code",
   "execution_count": 2,
   "id": "709c4584-edf8-48b2-8b8d-9fefe2dea74d",
   "metadata": {},
   "outputs": [
    {
     "name": "stderr",
     "output_type": "stream",
     "text": [
      "/home/antonio/.local/share/virtualenvs/fastapi-nosql-scraper-5V5BX_XL/lib/python3.10/site-packages/cassandra/cqlengine/management.py:545: UserWarning: CQLENG_ALLOW_SCHEMA_MANAGEMENT environment variable is not set. Future versions of this package will require this variable to enable management functions.\n",
      "  warnings.warn(msg)\n"
     ]
    }
   ],
   "source": [
    "from app import db, models, crud\n",
    "from pydantic import BaseModel"
   ]
  },
  {
   "cell_type": "code",
   "execution_count": 3,
   "id": "017969ec-77a6-4521-8f97-f15c259c5072",
   "metadata": {},
   "outputs": [],
   "source": [
    "session = db.CassandraSession.get_session()"
   ]
  },
  {
   "cell_type": "code",
   "execution_count": 6,
   "id": "f1bc9abf-a5db-4e06-b0bf-ada99b05cfb0",
   "metadata": {},
   "outputs": [],
   "source": [
    "data = {'asin':'TESTING123D',\n",
    "        'title': 'Mark ladsf',\n",
    "        'abc123': 'nothing'\n",
    "       }"
   ]
  },
  {
   "cell_type": "code",
   "execution_count": 4,
   "id": "16ceeee9-91a7-4215-b93d-8137e6203935",
   "metadata": {},
   "outputs": [],
   "source": [
    "class ProductSchema(BaseModel):\n",
    "    asin: str\n",
    "    title: str"
   ]
  },
  {
   "cell_type": "code",
   "execution_count": 7,
   "id": "0c3752cc-68b9-41e7-97c8-d5ed9fc21414",
   "metadata": {},
   "outputs": [
    {
     "name": "stderr",
     "output_type": "stream",
     "text": [
      "/tmp/ipykernel_244987/2852585928.py:2: PydanticDeprecatedSince20: The `dict` method is deprecated; use `model_dump` instead. Deprecated in Pydantic V2.0 to be removed in V3.0. See Pydantic V2 Migration Guide at https://errors.pydantic.dev/2.3/migration/\n",
      "  product.dict()\n"
     ]
    },
    {
     "data": {
      "text/plain": [
       "{'asin': 'TESTING123D', 'title': 'Mark ladsf'}"
      ]
     },
     "execution_count": 7,
     "metadata": {},
     "output_type": "execute_result"
    }
   ],
   "source": [
    "product = ProductSchema(**data)\n",
    "product.dict()"
   ]
  },
  {
   "cell_type": "code",
   "execution_count": 8,
   "id": "5bdb7541-5059-46f6-8a74-90b6e984cb9a",
   "metadata": {},
   "outputs": [
    {
     "name": "stderr",
     "output_type": "stream",
     "text": [
      "/tmp/ipykernel_244987/2270378535.py:1: PydanticDeprecatedSince20: The `dict` method is deprecated; use `model_dump` instead. Deprecated in Pydantic V2.0 to be removed in V3.0. See Pydantic V2 Migration Guide at https://errors.pydantic.dev/2.3/migration/\n",
      "  crud.add_scrape_event(product.dict(), fresh=True)\n"
     ]
    },
    {
     "data": {
      "text/plain": [
       "(Product(asin='TESTING123D', title='Mark ladsf', price_str='-100'),\n",
       " ProductScrapeEvent(uuid=UUID('584bd1a0-4f91-11ee-9185-bbdc90d048e2'), asin='TESTING123D', title='Mark ladsf', price_str='-100'))"
      ]
     },
     "execution_count": 8,
     "metadata": {},
     "output_type": "execute_result"
    }
   ],
   "source": [
    "crud.add_scrape_event(product.dict(), fresh=True)"
   ]
  },
  {
   "cell_type": "code",
   "execution_count": null,
   "id": "56abf5b5-aad7-46c2-90c7-5c67c7873082",
   "metadata": {},
   "outputs": [],
   "source": []
  }
 ],
 "metadata": {
  "kernelspec": {
   "display_name": "Python 3 (ipykernel)",
   "language": "python",
   "name": "python3"
  },
  "language_info": {
   "codemirror_mode": {
    "name": "ipython",
    "version": 3
   },
   "file_extension": ".py",
   "mimetype": "text/x-python",
   "name": "python",
   "nbconvert_exporter": "python",
   "pygments_lexer": "ipython3",
   "version": "3.10.12"
  }
 },
 "nbformat": 4,
 "nbformat_minor": 5
}
