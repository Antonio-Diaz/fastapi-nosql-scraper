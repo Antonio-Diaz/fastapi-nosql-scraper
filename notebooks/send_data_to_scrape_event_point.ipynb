{
 "cells": [
  {
   "cell_type": "code",
   "execution_count": 3,
   "metadata": {},
   "outputs": [],
   "source": [
    "import requests"
   ]
  },
  {
   "cell_type": "code",
   "execution_count": 15,
   "metadata": {},
   "outputs": [
    {
     "name": "stdout",
     "output_type": "stream",
     "text": [
      "{'asin': 'http_test', 'title': 'abc123', 'price_str': '$19.99'}\n"
     ]
    }
   ],
   "source": [
    "enpoint = \"http://127.0.0.1:8000/events/scrape\"\n",
    "\n",
    "r = requests.post(url=enpoint, json={\"asin\": \"http_test\", \"title\": \"abc123\", \"price_str\": \"$19.99\"})\n",
    "print(r.json())"
   ]
  },
  {
   "cell_type": "code",
   "execution_count": 21,
   "metadata": {},
   "outputs": [
    {
     "name": "stdout",
     "output_type": "stream",
     "text": [
      "{'asin': 'http_test', 'title': 'abc123', 'price_str': '$19.99', 'events': [{'asin': 'http_test', 'title': 'abc123', 'price_str': '$19.99', 'created': 1694401339.390965}, {'asin': 'http_test', 'title': 'abc123', 'price_str': '$19.99', 'created': 1694401344.182462}, {'asin': 'http_test', 'title': 'abc123', 'price_str': '$19.99', 'created': 1694401344.182462}, {'asin': 'http_test', 'title': 'abc123', 'price_str': '$19.99', 'created': 1694401337.120984}, {'asin': 'http_test', 'title': 'abc123', 'price_str': '$19.99', 'created': 1694401344.182462}, {'asin': 'http_test', 'title': 'abc123', 'price_str': '$19.99', 'created': 1694401339.390965}, {'asin': 'http_test', 'title': 'abc123', 'price_str': '$19.99', 'created': 1694401339.390965}], 'events_url': '/products/http_test/events'}\n"
     ]
    }
   ],
   "source": [
    "enpoint2 = f\"http://127.0.0.1:8000/products/http_test\"\n",
    "\n",
    "r2 = requests.get(enpoint2)\n",
    "print(r2.json())"
   ]
  }
 ],
 "metadata": {
  "kernelspec": {
   "display_name": "fastapi-nosql-scraper-5V5BX_XL",
   "language": "python",
   "name": "python3"
  },
  "language_info": {
   "codemirror_mode": {
    "name": "ipython",
    "version": 3
   },
   "file_extension": ".py",
   "mimetype": "text/x-python",
   "name": "python",
   "nbconvert_exporter": "python",
   "pygments_lexer": "ipython3",
   "version": "3.10.12"
  },
  "orig_nbformat": 4
 },
 "nbformat": 4,
 "nbformat_minor": 2
}
