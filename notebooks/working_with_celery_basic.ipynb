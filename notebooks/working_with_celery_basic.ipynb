{
 "cells": [
  {
   "cell_type": "code",
   "execution_count": 1,
   "metadata": {},
   "outputs": [
    {
     "name": "stdout",
     "output_type": "stream",
     "text": [
      "/home/antonio/projects/fastapi-nosql-scraper\n"
     ]
    }
   ],
   "source": [
    "cd /home/antonio/projects/fastapi-nosql-scraper"
   ]
  },
  {
   "cell_type": "code",
   "execution_count": 2,
   "metadata": {},
   "outputs": [],
   "source": [
    "from app.worker import random_task"
   ]
  },
  {
   "cell_type": "code",
   "execution_count": 3,
   "metadata": {},
   "outputs": [
    {
     "name": "stderr",
     "output_type": "stream",
     "text": [
      "2023-09-10 17:47:37,682 - app.worker - INFO - Who throws a shoe. Honestly Justin.\n"
     ]
    },
    {
     "name": "stdout",
     "output_type": "stream",
     "text": [
      "Who throws a shoe. Honestly Justin.\n"
     ]
    }
   ],
   "source": [
    "random_task('Justin')"
   ]
  },
  {
   "cell_type": "code",
   "execution_count": 4,
   "metadata": {},
   "outputs": [
    {
     "name": "stderr",
     "output_type": "stream",
     "text": [
      "2023-09-10 17:47:37,695 - app.worker - INFO - Who throws a shoe. Honestly Justin.\n",
      "2023-09-10 17:47:37,696 - app.worker - INFO - Who throws a shoe. Honestly Justin.\n",
      "2023-09-10 17:47:37,697 - app.worker - INFO - Who throws a shoe. Honestly Justin.\n",
      "2023-09-10 17:47:37,698 - app.worker - INFO - Who throws a shoe. Honestly Justin.\n",
      "2023-09-10 17:47:37,699 - app.worker - INFO - Who throws a shoe. Honestly Justin.\n",
      "2023-09-10 17:47:37,699 - app.worker - INFO - Who throws a shoe. Honestly Justin.\n",
      "2023-09-10 17:47:37,700 - app.worker - INFO - Who throws a shoe. Honestly Justin.\n",
      "2023-09-10 17:47:37,701 - app.worker - INFO - Who throws a shoe. Honestly Justin.\n",
      "2023-09-10 17:47:37,702 - app.worker - INFO - Who throws a shoe. Honestly Justin.\n",
      "2023-09-10 17:47:37,703 - app.worker - INFO - Who throws a shoe. Honestly Justin.\n"
     ]
    },
    {
     "name": "stdout",
     "output_type": "stream",
     "text": [
      "Who throws a shoe. Honestly Justin.\n",
      "Who throws a shoe. Honestly Justin.\n",
      "Who throws a shoe. Honestly Justin.\n",
      "Who throws a shoe. Honestly Justin.\n",
      "Who throws a shoe. Honestly Justin.\n",
      "Who throws a shoe. Honestly Justin.\n",
      "Who throws a shoe. Honestly Justin.\n",
      "Who throws a shoe. Honestly Justin.\n",
      "Who throws a shoe. Honestly Justin.\n",
      "Who throws a shoe. Honestly Justin.\n"
     ]
    }
   ],
   "source": [
    "for i in range(10):\n",
    "    random_task('Justin')"
   ]
  },
  {
   "cell_type": "code",
   "execution_count": null,
   "metadata": {},
   "outputs": [],
   "source": []
  }
 ],
 "metadata": {
  "kernelspec": {
   "display_name": "fastapi-nosql-scraper-5V5BX_XL",
   "language": "python",
   "name": "python3"
  },
  "language_info": {
   "codemirror_mode": {
    "name": "ipython",
    "version": 3
   },
   "file_extension": ".py",
   "mimetype": "text/x-python",
   "name": "python",
   "nbconvert_exporter": "python",
   "pygments_lexer": "ipython3",
   "version": "3.10.12"
  },
  "orig_nbformat": 4
 },
 "nbformat": 4,
 "nbformat_minor": 2
}
